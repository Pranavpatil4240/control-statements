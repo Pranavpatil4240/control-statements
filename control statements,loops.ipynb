{
 "cells": [
  {
   "cell_type": "code",
   "execution_count": 1,
   "id": "46c2734d-951b-443a-a139-7cc1dc4090a6",
   "metadata": {},
   "outputs": [
    {
     "name": "stdout",
     "output_type": "stream",
     "text": [
      "both are same\n",
      "bye bye\n"
     ]
    }
   ],
   "source": [
    "#WAP to working of if else statement using python\n",
    "a=50\n",
    "b=50\n",
    "if(a>b):\n",
    "     print(\"a is greater\")\n",
    "elif(b>a):\n",
    "     print(\"b is greater\")\n",
    "else:\n",
    "     print(\"both are same\")\n",
    "     print(\"bye bye\")"
   ]
  },
  {
   "cell_type": "code",
   "execution_count": 4,
   "id": "17cb49f5-e499-4043-92e0-5000e1465bbf",
   "metadata": {},
   "outputs": [
    {
     "name": "stdin",
     "output_type": "stream",
     "text": [
      "Enter first value 5\n",
      "Enter second value 10\n"
     ]
    },
    {
     "name": "stdout",
     "output_type": "stream",
     "text": [
      "second value is greater\n"
     ]
    }
   ],
   "source": [
    "#WAP to compare and show which is greater ,first get input Values from user ,compare and show result\n",
    "a=int(input(\"Enter first value\"))\n",
    "b=int(input(\"Enter second value\"))\n",
    "if(a>b):\n",
    "     print(\"first value is greater\")\n",
    "elif(b>a):\n",
    "     print(\"second value is greater\")\n",
    "else:\n",
    "     print(\"both values are same\")\n",
    "     print(\"HUM DONO EK HI UNIT HAI #AADI MANAV\")"
   ]
  },
  {
   "cell_type": "code",
   "execution_count": 5,
   "id": "1c4e79f5-d9e0-4b3e-a1c3-097dc053a4ad",
   "metadata": {},
   "outputs": [
    {
     "name": "stdin",
     "output_type": "stream",
     "text": [
      "Enter a number:  -5\n"
     ]
    },
    {
     "name": "stdout",
     "output_type": "stream",
     "text": [
      "Entered number is Negative\n"
     ]
    }
   ],
   "source": [
    "#Assighnment program 2\n",
    "#WAP to Check given number is positive or negative or Neutral\n",
    "num = float(input(\"Enter a number: \"))\n",
    "if num > 0:\n",
    "   print(\"Entered number is Positive\")\n",
    "elif num == 0:\n",
    "   print(\"Entered number is Neutral\")\n",
    "#we can also use else :negative number ,if upper two statement are fails then it will direct go on else \n",
    "\n",
    "elif num < 0:\n",
    "   print(\"Entered number is Negative\")\n",
    "\n",
    "\n",
    "\n",
    "\n",
    "\n",
    "\n"
   ]
  },
  {
   "cell_type": "code",
   "execution_count": 7,
   "id": "3ab960d2-bb28-45a8-a0d6-f091ce7bb5bc",
   "metadata": {},
   "outputs": [
    {
     "name": "stdin",
     "output_type": "stream",
     "text": [
      "Enter a number:  10\n"
     ]
    },
    {
     "name": "stdout",
     "output_type": "stream",
     "text": [
      "10.0 is Even\n"
     ]
    }
   ],
   "source": [
    "#Assighnment program 3\n",
    "#WAP to check the given number is even or odd in python \n",
    "# if division by 2 gives a remainder of 0 then the number is even\n",
    "# If the remainder is 1, it is an odd number.\n",
    "#format specifier\n",
    "\n",
    "num = float(input(\"Enter a number: \"))\n",
    "if (num % 2) == 0:\n",
    "   print(\"{0} is Even\".format(num))\n",
    "else:\n",
    "   print(\"{0} is Odd\".format(num))\n",
    "\n",
    "\n",
    "\n"
   ]
  },
  {
   "cell_type": "code",
   "execution_count": 8,
   "id": "9c760df6-bd3d-4458-9f3d-b9d1c86d027e",
   "metadata": {},
   "outputs": [
    {
     "name": "stdout",
     "output_type": "stream",
     "text": [
      "0\n",
      "1\n",
      "2\n",
      "3\n",
      "4\n",
      "5\n",
      "6\n",
      "7\n",
      "8\n",
      "9\n",
      "10\n",
      "hello Pranav\n"
     ]
    }
   ],
   "source": [
    "#loops\n",
    "#WAP to print 0 to 10 numbers\n",
    "#step 1 initialize\n",
    "#step 2 while (condition)\n",
    "#business logic/statements/change\n",
    "#normal statement\n",
    "a=0\n",
    "while (a<=10):\n",
    "    print(a)\n",
    "    a=a+1\n",
    "print(\"hello Pranav\")"
   ]
  },
  {
   "cell_type": "code",
   "execution_count": 9,
   "id": "4b7d600b-d83e-4875-9a8a-82779ba4a821",
   "metadata": {},
   "outputs": [
    {
     "name": "stdin",
     "output_type": "stream",
     "text": [
      "Enter a number:  5\n"
     ]
    },
    {
     "name": "stdout",
     "output_type": "stream",
     "text": [
      "5\n",
      "10\n",
      "15\n",
      "20\n",
      "25\n",
      "30\n",
      "35\n",
      "40\n",
      "45\n",
      "50\n"
     ]
    }
   ],
   "source": [
    "#WAP to generate multiplication table\n",
    "num = int(input(\"Enter a number: \"))\n",
    "a = 1\n",
    "while(a<=10):\n",
    "    print(a*num)\n",
    "    a=a+1"
   ]
  },
  {
   "cell_type": "code",
   "execution_count": 10,
   "id": "9b672c20-dd7a-4bfd-9818-917046316da4",
   "metadata": {},
   "outputs": [
    {
     "name": "stdin",
     "output_type": "stream",
     "text": [
      "Enter any number:  5\n"
     ]
    },
    {
     "name": "stdout",
     "output_type": "stream",
     "text": [
      "Factorial of number is 120\n"
     ]
    }
   ],
   "source": [
    "#WAP of factorial\n",
    "\n",
    "num = int(input(\"Enter any number: \"))\n",
    "f = 1\n",
    "while num >= 1:\n",
    "    f *= num\n",
    "    num -= 1\n",
    "\n",
    "print(\"Factorial of number is\", f)"
   ]
  },
  {
   "cell_type": "code",
   "execution_count": 11,
   "id": "1c04f193-cfe6-4082-b389-c67f56eb4476",
   "metadata": {},
   "outputs": [
    {
     "name": "stdin",
     "output_type": "stream",
     "text": [
      " 5\n"
     ]
    },
    {
     "name": "stdout",
     "output_type": "stream",
     "text": [
      "120\n"
     ]
    }
   ],
   "source": [
    "#factorial program by instructor\n",
    "num=int(input())\n",
    "res=1\n",
    "a=1\n",
    "while(a<=num):\n",
    "    res=res*a\n",
    "    a=a+1\n",
    "print(res)"
   ]
  },
  {
   "cell_type": "code",
   "execution_count": 12,
   "id": "136ff70c-6593-49d8-b207-fb069028ae77",
   "metadata": {},
   "outputs": [
    {
     "name": "stdin",
     "output_type": "stream",
     "text": [
      "Enter a number:  5\n",
      "Enter a next number:  4\n",
      "Enter a next number:  3\n",
      "Enter a next number:  2\n",
      "Enter a next number:  1\n",
      "Enter a next number:  0\n"
     ]
    },
    {
     "name": "stdout",
     "output_type": "stream",
     "text": [
      "The sum is 15\n"
     ]
    }
   ],
   "source": [
    "#123=1+2+3=6\n",
    "\n",
    "# Calculate the sum of numbers until user enters 0\n",
    "number = int(input('Enter a number: '))\n",
    "total = 0\n",
    "\n",
    "while number != 0:\n",
    "    total += number\n",
    "    \n",
    "    number = int(input('Enter a next number: '))\n",
    "\n",
    "print('The sum is', total)"
   ]
  },
  {
   "cell_type": "code",
   "execution_count": 13,
   "id": "40a900e1-7601-4ebd-a6d3-3bc5bab6515b",
   "metadata": {},
   "outputs": [
    {
     "name": "stdout",
     "output_type": "stream",
     "text": [
      "6\n"
     ]
    }
   ],
   "source": [
    "# same program\n",
    "#123=1+2+3=6\n",
    "#we already declared values at beginning\n",
    "num=123\n",
    "sums=0\n",
    "\n",
    "while num > 0:\n",
    "  sums+= num%10\n",
    "  num//=10\n",
    "print(sums)"
   ]
  },
  {
   "cell_type": "code",
   "execution_count": 14,
   "id": "8ec3f53f-5daa-45e0-aaa5-f07a90fd8a87",
   "metadata": {},
   "outputs": [
    {
     "name": "stdout",
     "output_type": "stream",
     "text": [
      "Reversed Number: 4321\n"
     ]
    }
   ],
   "source": [
    "#Assighnment no 4\n",
    "#WAP to Reverse user defined number\n",
    "num = 1234\n",
    "reversed_num = 0\n",
    "\n",
    "while num != 0:\n",
    "    digit = num % 10\n",
    "    reversed_num = reversed_num * 10 + digit\n",
    "    num //= 10\n",
    "\n",
    "print(\"Reversed Number: \" + str(reversed_num))"
   ]
  },
  {
   "cell_type": "code",
   "execution_count": 16,
   "id": "6888c398-2334-401a-8d2d-7a001b7a7ecf",
   "metadata": {},
   "outputs": [
    {
     "name": "stdin",
     "output_type": "stream",
     "text": [
      "Enter a number: 5\n"
     ]
    },
    {
     "name": "stdout",
     "output_type": "stream",
     "text": [
      "The number is palindrome!\n"
     ]
    }
   ],
   "source": [
    "#Assighnment no 5\n",
    "#WAP to check given number or string is pallindrome or not\n",
    "num=int(input(\"Enter a number:\"))\n",
    "temp=num\n",
    "rev=0\n",
    "while(num>0):\n",
    "    dig=num%10\n",
    "    rev=rev*10+dig\n",
    "    num=num//10\n",
    "if(temp==rev):\n",
    "    print(\"The number is palindrome!\")\n",
    "else:\n",
    "    print(\"Not a palindrome!\")"
   ]
  },
  {
   "cell_type": "code",
   "execution_count": 4,
   "id": "948ebd5d-32ee-4d62-916e-a700484d1504",
   "metadata": {},
   "outputs": [
    {
     "name": "stdout",
     "output_type": "stream",
     "text": [
      "Answer = 16\n"
     ]
    }
   ],
   "source": [
    "#Assighnment no 6\n",
    "#WAP to find out the value of m^n (power)\n",
    "base = 2\n",
    "exponent = 4\n",
    "\n",
    "result = 1\n",
    "\n",
    "while exponent != 0:\n",
    "    result = result * base\n",
    "    exponent-=1\n",
    "\n",
    "print(\"Answer = \" + str(result))\n"
   ]
  },
  {
   "cell_type": "code",
   "execution_count": 2,
   "id": "455c570a-7c56-4290-a015-e5e58f2b6268",
   "metadata": {},
   "outputs": [
    {
     "name": "stdin",
     "output_type": "stream",
     "text": [
      "Enter a number:  153\n"
     ]
    },
    {
     "name": "stdout",
     "output_type": "stream",
     "text": [
      "153 is an Armstrong number\n"
     ]
    }
   ],
   "source": [
    "#Assighnment no 7\n",
    "#WAP to check if the number is an Armstrong number or not\n",
    "num = int(input(\"Enter a number: \"))\n",
    "\n",
    "# initialize sum\n",
    "sum = 0\n",
    "\n",
    "# find the sum of the cube of each digit\n",
    "temp = num\n",
    "while temp > 0:\n",
    "   digit = temp % 10\n",
    "   sum = sum+digit ** 3\n",
    "   temp= temp // 10\n",
    "\n",
    "# display the result\n",
    "if num == sum:\n",
    "   print(num,\"is an Armstrong number\")\n",
    "else:\n",
    "   print(num,\"is not an Armstrong number\")\n"
   ]
  },
  {
   "cell_type": "code",
   "execution_count": 24,
   "id": "809cff16-2cd5-4cae-b31b-c8a10fc9c786",
   "metadata": {},
   "outputs": [
    {
     "name": "stdin",
     "output_type": "stream",
     "text": [
      "Enter 3-digit number :  153\n"
     ]
    },
    {
     "name": "stdout",
     "output_type": "stream",
     "text": [
      "It is an Armstrong number\n"
     ]
    }
   ],
   "source": [
    "#WAP to check entred number is armstrong or not\n",
    "num = int(input(\"Enter 3-digit number : \"))#to get input\n",
    " \n",
    "sum = 0  #to store sum value\n",
    "temp = num #temp file module\n",
    "#Define a function\n",
    "while temp > 0: #if entered number is greater than 0 then it execute the block\n",
    "    digit = temp % 10  #for separate each digits with each other (by getting reminder)\n",
    "    sum += digit * digit * digit #cube of each digit in entred 3 digit value\n",
    "    temp = temp//10 #for getting remaining left hand side digit (by performing floor division\n",
    " \n",
    "if sum==num: #if result value is equal to the entered value then\n",
    "    print('It is an Armstrong number')\n",
    "else: #if result value is not similar to the entered value then\n",
    "    print('It is not an Armstrong number')\n",
    "\n"
   ]
  },
  {
   "cell_type": "code",
   "execution_count": 15,
   "id": "862a6e54-a28b-4cc5-a6de-efd6db96d43a",
   "metadata": {},
   "outputs": [
    {
     "name": "stdin",
     "output_type": "stream",
     "text": [
      "enter a number: 10\n"
     ]
    },
    {
     "name": "stdout",
     "output_type": "stream",
     "text": [
      "sum of digits 1\n"
     ]
    }
   ],
   "source": [
    "#WAP to calculate sum of digits \n",
    "#to get input from user\n",
    "num=int(input(\"enter a number:\")) \n",
    "#for store and add that reminder number\n",
    "sum=0\n",
    "# if no is greater thn 0 then it will run code which inside of while loop\n",
    "while num>0:\n",
    "    #to find the reminder of entered number (to get each digit)\n",
    "   reminder=num%10\n",
    "    #for sum of reminder with already sum result\n",
    "   sum=sum+reminder\n",
    "    #for get remaining left hand digits by using floor division and send it towards while loop as a value\n",
    "   num=num//10\n",
    "print(\"sum of digits\",sum)\n"
   ]
  },
  {
   "cell_type": "code",
   "execution_count": null,
   "id": "691948d3-168e-4fa7-83ae-59520d4c7484",
   "metadata": {},
   "outputs": [],
   "source": []
  },
  {
   "cell_type": "code",
   "execution_count": null,
   "id": "6f261b92-3941-4809-8af8-90fd676905cd",
   "metadata": {},
   "outputs": [],
   "source": []
  }
 ],
 "metadata": {
  "kernelspec": {
   "display_name": "Python 3 (ipykernel)",
   "language": "python",
   "name": "python3"
  },
  "language_info": {
   "codemirror_mode": {
    "name": "ipython",
    "version": 3
   },
   "file_extension": ".py",
   "mimetype": "text/x-python",
   "name": "python",
   "nbconvert_exporter": "python",
   "pygments_lexer": "ipython3",
   "version": "3.12.4"
  }
 },
 "nbformat": 4,
 "nbformat_minor": 5
}
